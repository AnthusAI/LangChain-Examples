{
  "cells": [
    {
      "cell_type": "markdown",
      "metadata": {
        "id": "IaWMCP7PSoIa"
      },
      "source": [
        "# LangChain Use-Case Example: Processing Data\n",
        "\n",
        "This example shows how you can use LangChain to feed data to an LLM to make decisions, classifications, extract text, or any of the other things language models can do with data.\n",
        "\n",
        "You can run this code if you have an OpenAI API key.  If you have other API keys then you can run some of the demos that use multiple AI APIs from the same code.\n",
        "\n",
        "## Setup code\n",
        "\n",
        "The first code cell installs the LangChain modules and retrieves AI API credentials.  Please set up Colab secrets for any of these:\n",
        "\n",
        "* `OPENAI_API_KEY`    -- To use the OpenAI API\n",
        "* `AWS_ACCESS_KEY_ID` -- To use AWS Bedrock\n",
        "* `AWS_SECRET_ACCESS_KEY`\n",
        "* `AWS_REGION_NAME`"
      ]
    },
    {
      "cell_type": "code",
      "execution_count": 1,
      "metadata": {},
      "outputs": [
        {
          "name": "stdout",
          "output_type": "stream",
          "text": [
            "Successfully loaded OPENAI_API_KEY from environment variables.\n",
            "Successfully loaded AWS_ACCESS_KEY_ID from environment variables.\n",
            "Successfully loaded AWS_SECRET_ACCESS_KEY from environment variables.\n",
            "Successfully loaded AWS_REGION_NAME from environment variables.\n"
          ]
        }
      ],
      "source": [
        "# Load secrets\n",
        "import os\n",
        "from dotenv import load_dotenv\n",
        "load_dotenv()\n",
        "\n",
        "def load_environment_variables(variable_names):\n",
        "    for var_name in variable_names:\n",
        "        if var_name not in os.environ:\n",
        "            try:\n",
        "                from google.colab import userdata\n",
        "                value = userdata.get(var_name)\n",
        "                if value:\n",
        "                    os.environ[var_name] = value\n",
        "            except ImportError:\n",
        "                pass\n",
        "        if var_name not in os.environ:\n",
        "            raise ValueError(f\"{var_name} not found. Please set it in .env file or Google Colab secrets.\")\n",
        "        else:\n",
        "            print(f\"Successfully loaded {var_name} from environment variables.\")\n",
        "\n",
        "variables_to_load = [\n",
        "    \"OPENAI_API_KEY\",\n",
        "    \"AWS_ACCESS_KEY_ID\",\n",
        "    \"AWS_SECRET_ACCESS_KEY\",\n",
        "    \"AWS_REGION_NAME\"\n",
        "]\n",
        "\n",
        "load_environment_variables(variables_to_load)"
      ]
    },
    {
      "cell_type": "code",
      "execution_count": 2,
      "metadata": {
        "colab": {
          "base_uri": "https://localhost:8080/"
        },
        "id": "ZeHf7rmvXh7y",
        "outputId": "4f548eb7-a545-41fb-bd56-c85c1000ee17"
      },
      "outputs": [
        {
          "name": "stdout",
          "output_type": "stream",
          "text": [
            "Requirement already satisfied: langchain in /Users/ryan/miniconda3/envs/py39/lib/python3.9/site-packages (0.2.11)\n",
            "Requirement already satisfied: langchain-community in /Users/ryan/miniconda3/envs/py39/lib/python3.9/site-packages (0.2.6)\n",
            "Requirement already satisfied: langchain-core in /Users/ryan/miniconda3/envs/py39/lib/python3.9/site-packages (0.2.23)\n",
            "Requirement already satisfied: langchain-openai in /Users/ryan/miniconda3/envs/py39/lib/python3.9/site-packages (0.1.14)\n",
            "Requirement already satisfied: PyYAML>=5.3 in /Users/ryan/miniconda3/envs/py39/lib/python3.9/site-packages (from langchain) (6.0.1)\n",
            "Requirement already satisfied: SQLAlchemy<3,>=1.4 in /Users/ryan/miniconda3/envs/py39/lib/python3.9/site-packages (from langchain) (1.4.15)\n",
            "Requirement already satisfied: aiohttp<4.0.0,>=3.8.3 in /Users/ryan/miniconda3/envs/py39/lib/python3.9/site-packages (from langchain) (3.9.5)\n",
            "Requirement already satisfied: async-timeout<5.0.0,>=4.0.0 in /Users/ryan/miniconda3/envs/py39/lib/python3.9/site-packages (from langchain) (4.0.3)\n",
            "Requirement already satisfied: langchain-text-splitters<0.3.0,>=0.2.0 in /Users/ryan/miniconda3/envs/py39/lib/python3.9/site-packages (from langchain) (0.2.2)\n",
            "Requirement already satisfied: langsmith<0.2.0,>=0.1.17 in /Users/ryan/miniconda3/envs/py39/lib/python3.9/site-packages (from langchain) (0.1.93)\n",
            "Requirement already satisfied: numpy<2,>=1 in /Users/ryan/miniconda3/envs/py39/lib/python3.9/site-packages (from langchain) (1.26.4)\n",
            "Requirement already satisfied: pydantic<3,>=1 in /Users/ryan/miniconda3/envs/py39/lib/python3.9/site-packages (from langchain) (2.8.2)\n",
            "Requirement already satisfied: requests<3,>=2 in /Users/ryan/miniconda3/envs/py39/lib/python3.9/site-packages (from langchain) (2.32.3)\n",
            "Requirement already satisfied: tenacity!=8.4.0,<9.0.0,>=8.1.0 in /Users/ryan/miniconda3/envs/py39/lib/python3.9/site-packages (from langchain) (8.2.3)\n",
            "Requirement already satisfied: dataclasses-json<0.7,>=0.5.7 in /Users/ryan/miniconda3/envs/py39/lib/python3.9/site-packages (from langchain-community) (0.6.7)\n",
            "Requirement already satisfied: jsonpatch<2.0,>=1.33 in /Users/ryan/miniconda3/envs/py39/lib/python3.9/site-packages (from langchain-core) (1.33)\n",
            "Requirement already satisfied: packaging<25,>=23.2 in /Users/ryan/miniconda3/envs/py39/lib/python3.9/site-packages (from langchain-core) (23.2)\n",
            "Requirement already satisfied: openai<2.0.0,>=1.32.0 in /Users/ryan/miniconda3/envs/py39/lib/python3.9/site-packages (from langchain-openai) (1.37.1)\n",
            "Requirement already satisfied: tiktoken<1,>=0.7 in /Users/ryan/miniconda3/envs/py39/lib/python3.9/site-packages (from langchain-openai) (0.7.0)\n",
            "Requirement already satisfied: aiosignal>=1.1.2 in /Users/ryan/miniconda3/envs/py39/lib/python3.9/site-packages (from aiohttp<4.0.0,>=3.8.3->langchain) (1.3.1)\n",
            "Requirement already satisfied: attrs>=17.3.0 in /Users/ryan/miniconda3/envs/py39/lib/python3.9/site-packages (from aiohttp<4.0.0,>=3.8.3->langchain) (23.2.0)\n",
            "Requirement already satisfied: frozenlist>=1.1.1 in /Users/ryan/miniconda3/envs/py39/lib/python3.9/site-packages (from aiohttp<4.0.0,>=3.8.3->langchain) (1.4.1)\n",
            "Requirement already satisfied: multidict<7.0,>=4.5 in /Users/ryan/miniconda3/envs/py39/lib/python3.9/site-packages (from aiohttp<4.0.0,>=3.8.3->langchain) (6.0.5)\n",
            "Requirement already satisfied: yarl<2.0,>=1.0 in /Users/ryan/miniconda3/envs/py39/lib/python3.9/site-packages (from aiohttp<4.0.0,>=3.8.3->langchain) (1.9.4)\n",
            "Requirement already satisfied: marshmallow<4.0.0,>=3.18.0 in /Users/ryan/miniconda3/envs/py39/lib/python3.9/site-packages (from dataclasses-json<0.7,>=0.5.7->langchain-community) (3.21.3)\n",
            "Requirement already satisfied: typing-inspect<1,>=0.4.0 in /Users/ryan/miniconda3/envs/py39/lib/python3.9/site-packages (from dataclasses-json<0.7,>=0.5.7->langchain-community) (0.9.0)\n",
            "Requirement already satisfied: jsonpointer>=1.9 in /Users/ryan/miniconda3/envs/py39/lib/python3.9/site-packages (from jsonpatch<2.0,>=1.33->langchain-core) (3.0.0)\n",
            "Requirement already satisfied: orjson<4.0.0,>=3.9.14 in /Users/ryan/miniconda3/envs/py39/lib/python3.9/site-packages (from langsmith<0.2.0,>=0.1.17->langchain) (3.10.6)\n",
            "Requirement already satisfied: anyio<5,>=3.5.0 in /Users/ryan/miniconda3/envs/py39/lib/python3.9/site-packages (from openai<2.0.0,>=1.32.0->langchain-openai) (4.4.0)\n",
            "Requirement already satisfied: distro<2,>=1.7.0 in /Users/ryan/miniconda3/envs/py39/lib/python3.9/site-packages (from openai<2.0.0,>=1.32.0->langchain-openai) (1.9.0)\n",
            "Requirement already satisfied: httpx<1,>=0.23.0 in /Users/ryan/miniconda3/envs/py39/lib/python3.9/site-packages (from openai<2.0.0,>=1.32.0->langchain-openai) (0.27.0)\n",
            "Requirement already satisfied: sniffio in /Users/ryan/miniconda3/envs/py39/lib/python3.9/site-packages (from openai<2.0.0,>=1.32.0->langchain-openai) (1.3.1)\n",
            "Requirement already satisfied: tqdm>4 in /Users/ryan/miniconda3/envs/py39/lib/python3.9/site-packages (from openai<2.0.0,>=1.32.0->langchain-openai) (4.66.4)\n",
            "Requirement already satisfied: typing-extensions<5,>=4.7 in /Users/ryan/miniconda3/envs/py39/lib/python3.9/site-packages (from openai<2.0.0,>=1.32.0->langchain-openai) (4.12.2)\n",
            "Requirement already satisfied: annotated-types>=0.4.0 in /Users/ryan/miniconda3/envs/py39/lib/python3.9/site-packages (from pydantic<3,>=1->langchain) (0.7.0)\n",
            "Requirement already satisfied: pydantic-core==2.20.1 in /Users/ryan/miniconda3/envs/py39/lib/python3.9/site-packages (from pydantic<3,>=1->langchain) (2.20.1)\n",
            "Requirement already satisfied: charset-normalizer<4,>=2 in /Users/ryan/miniconda3/envs/py39/lib/python3.9/site-packages (from requests<3,>=2->langchain) (3.3.2)\n",
            "Requirement already satisfied: idna<4,>=2.5 in /Users/ryan/miniconda3/envs/py39/lib/python3.9/site-packages (from requests<3,>=2->langchain) (3.7)\n",
            "Requirement already satisfied: urllib3<3,>=1.21.1 in /Users/ryan/miniconda3/envs/py39/lib/python3.9/site-packages (from requests<3,>=2->langchain) (1.26.19)\n",
            "Requirement already satisfied: certifi>=2017.4.17 in /Users/ryan/miniconda3/envs/py39/lib/python3.9/site-packages (from requests<3,>=2->langchain) (2024.7.4)\n",
            "Requirement already satisfied: greenlet!=0.4.17 in /Users/ryan/miniconda3/envs/py39/lib/python3.9/site-packages (from SQLAlchemy<3,>=1.4->langchain) (3.0.3)\n",
            "Requirement already satisfied: regex>=2022.1.18 in /Users/ryan/miniconda3/envs/py39/lib/python3.9/site-packages (from tiktoken<1,>=0.7->langchain-openai) (2024.7.24)\n",
            "Requirement already satisfied: exceptiongroup>=1.0.2 in /Users/ryan/miniconda3/envs/py39/lib/python3.9/site-packages (from anyio<5,>=3.5.0->openai<2.0.0,>=1.32.0->langchain-openai) (1.2.2)\n",
            "Requirement already satisfied: httpcore==1.* in /Users/ryan/miniconda3/envs/py39/lib/python3.9/site-packages (from httpx<1,>=0.23.0->openai<2.0.0,>=1.32.0->langchain-openai) (1.0.5)\n",
            "Requirement already satisfied: h11<0.15,>=0.13 in /Users/ryan/miniconda3/envs/py39/lib/python3.9/site-packages (from httpcore==1.*->httpx<1,>=0.23.0->openai<2.0.0,>=1.32.0->langchain-openai) (0.14.0)\n",
            "Requirement already satisfied: mypy-extensions>=0.3.0 in /Users/ryan/miniconda3/envs/py39/lib/python3.9/site-packages (from typing-inspect<1,>=0.4.0->dataclasses-json<0.7,>=0.5.7->langchain-community) (1.0.0)\n"
          ]
        }
      ],
      "source": [
        "# Install necessary libraries\n",
        "!pip install langchain langchain-community langchain-core langchain-openai\n",
        "\n",
        "# LangChain setup: Show more about what's happening as it happens.\n",
        "# from langchain.globals import set_debug\n",
        "# set_debug(True)"
      ]
    },
    {
      "cell_type": "markdown",
      "metadata": {},
      "source": [
        "## Example: Detect Something In A Dataset\n",
        "\n",
        "This [HuggingFace dataset](https://huggingface.co/datasets/AyoubChLin/CNN_News_Articles_2011-2022) contains news articles from CNN.  What if we want to use an LLM to scan the articles, looking for something?  LangChain makes that pretty easy."
      ]
    },
    {
      "cell_type": "code",
      "execution_count": 15,
      "metadata": {},
      "outputs": [
        {
          "name": "stderr",
          "output_type": "stream",
          "text": [
            "Processing articles:  24%|██▎       | 380/1610 [02:54<15:30,  1.32article/s]"
          ]
        },
        {
          "name": "stdout",
          "output_type": "stream",
          "text": [
            "Text discusses space flight:\n",
            " Sign up for CNN's Wonder Theory science newsletter. Explore the universe with news on fascinating discoveries, scientific advancements and more. (CNN)The early warning system to detect asteroids that pose a threat to Earth, operated by NASA and its collaborators around the world, got to flex its muscles. It successfully detected a small asteroid 6 1/2 feet (2 meters) wide just hours before it smashed into the atmosphere over the Norwegian Sea before disintegrating on Friday, March 11, according to a statement from NASA's Jet Propulsion Laboratory on Tuesday. That's too small to pose any hazard to Earth, NASA said. A still from an animation showing asteroid 2022 EB5's predicted orbit around the sun before crashing into the Earth's atmosphere on March 11.Often such tiny asteroids slip through the surveillance net, and 2022 EB5 -- as the asteroid was named -- is only the fifth of this kind to be spotted and tracked prior to impact. (Fear not, a larger asteroid would be discovered and trac...\n"
          ]
        },
        {
          "name": "stderr",
          "output_type": "stream",
          "text": [
            "Processing articles:  30%|███       | 490/1610 [03:44<07:55,  2.35article/s]"
          ]
        },
        {
          "name": "stdout",
          "output_type": "stream",
          "text": [
            "Text discusses space flight:\n",
            " Sign up for CNN's Wonder Theory science newsletter. Explore the universe with news on fascinating discoveries, scientific advancements and more. (CNN)Total lunar eclipses, a multitude of meteor showers and supermoons will light up the sky in 2022.The new year is sure to be a sky-gazer's delight with plenty of celestial events on the calendar. There is always a good chance that the International Space Station is flying overhead. And if you ever want to know what planets are visible in the morning or evening sky, check The Old Farmer's Almanac's visible planets guide.Here are the top sky events of 2022 so you can have your binoculars and telescope ready. Full moons and supermoonsRead MoreThere are 12 full moons in 2022, and two of them qualify as supermoons. This image, taken in Brazil, shows a plane passing in front of the supermoon in March 2020. Definitions of a supermoon can vary, but the term generally denotes a full moon that is brighter and closer to Earth than normal and thus app...\n"
          ]
        },
        {
          "name": "stderr",
          "output_type": "stream",
          "text": [
            "Processing articles:  35%|███▍      | 558/1610 [04:21<07:36,  2.31article/s]"
          ]
        },
        {
          "name": "stdout",
          "output_type": "stream",
          "text": [
            "Text discusses space flight:\n",
            " Story highlights Crowds hand each member of the group a red rose While secluded, the crew has few luxuries The group asks scientists to put the data it gathered to good useThe group's isolation simulates a 520-day mission to MarsSix volunteer astronauts emerged from a 'trip' to Mars on Friday, waving and grinning widely after spending  520 days in seclusion.  Crowds handed each member of the group a red rose after their capsule opened at the facility in Moscow.  Scientists placed the six male volunteers in isolation in 2010 to simulate a mission to Mars, part of the European Space Agency's experiment to determine challenges facing future space travelers. The six, who are between ages 27 and 38, lived in a tight space the size of six buses in a row,  said Rosita Suenson, the agency's program officer for human spaceflight.During the period, the crew dressed in blue jumpsuits showered on rare occasions and survived on canned food.  Messages from friends and family came with a lag based on...\n"
          ]
        },
        {
          "name": "stderr",
          "output_type": "stream",
          "text": [
            "Processing articles:  56%|█████▋    | 908/1610 [06:57<05:01,  2.33article/s]"
          ]
        },
        {
          "name": "stdout",
          "output_type": "stream",
          "text": [
            "Text discusses space flight:\n",
            " Story highlightsGene Seymour: Gene Roddenberry may have created \"Star Trek,\" but Leonard Nimoy and character of Spock are inseparableHe says Nimoy had many other artistic endeavors, photography, directing, poetry, but he was, in the end, SpockGene Seymour is a film critic who has written about music, movies and culture for The New York Times, Newsday, Entertainment Weekly and The Washington Post. The opinions expressed in this commentary are solely those of the writer. (CNN)Everybody on the planet knows that Gene Roddenberry created Mr. Spock, the laconic, imperturbable extra-terrestrial First Officer for the Starship Enterprise. But Mr. Spock doesn't belong to Roddenberry, even though he is the grand exalted progenitor of everything that was, is, and forever will be \"Star Trek.\"Mr. Spock belongs to Leonard Nimoy, who died Friday at age 83. And though he doesn't take Spock with him, he and Spock remain inseparable. Zachary Quinto, who plays Spock in the re-booted feature film incarnati...\n"
          ]
        },
        {
          "name": "stderr",
          "output_type": "stream",
          "text": [
            "Processing articles: 100%|██████████| 1610/1610 [12:31<00:00,  2.14article/s]\n"
          ]
        }
      ],
      "source": [
        "from datasets import load_dataset\n",
        "import random\n",
        "from tqdm import tqdm\n",
        "from langchain_openai import ChatOpenAI\n",
        "from langchain.prompts import PromptTemplate\n",
        "\n",
        "# Load the dataset\n",
        "dataset = load_dataset(\"AyoubChLin/CNN_News_Articles_2011-2022\", split=\"train\")\n",
        "\n",
        "# Sample a percentage of the data (e.g., 5%)\n",
        "sample_size = int(len(dataset) * 0.05)\n",
        "sampled_data = random.sample(list(dataset), sample_size)\n",
        "\n",
        "# Use GPT-4 for the model\n",
        "model = ChatOpenAI(model_name=\"gpt-4o-mini\")\n",
        "\n",
        "# Create a prompt template\n",
        "prompt = PromptTemplate.from_template(\n",
        "    \"Does the following news article discuss space exploration missions? Answer with 'Yes' or 'No':\\n\\n{text}\"\n",
        ")\n",
        "\n",
        "chain = prompt | model\n",
        "\n",
        "# Process sampled data\n",
        "for item in tqdm(sampled_data, desc=\"Processing articles\", unit=\"article\"):\n",
        "    text = item[\"text\"]\n",
        "    response = chain.invoke({\"text\": text})\n",
        "    \n",
        "    # Extract the content from AIMessage\n",
        "    response_text = response.content.strip().lower()\n",
        "    \n",
        "    if response_text == \"yes\":\n",
        "        print(\"Text discusses space flight:\\n\", text[:1000] + '...')"
      ]
    }
  ],
  "metadata": {
    "colab": {
      "authorship_tag": "ABX9TyOpXsojiWLuKeGKMKF31Gmk",
      "include_colab_link": true,
      "provenance": []
    },
    "kernelspec": {
      "display_name": "Python 3",
      "name": "python3"
    },
    "language_info": {
      "codemirror_mode": {
        "name": "ipython",
        "version": 3
      },
      "file_extension": ".py",
      "mimetype": "text/x-python",
      "name": "python",
      "nbconvert_exporter": "python",
      "pygments_lexer": "ipython3",
      "version": "3.9.19"
    }
  },
  "nbformat": 4,
  "nbformat_minor": 0
}
