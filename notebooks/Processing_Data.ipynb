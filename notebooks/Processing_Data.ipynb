{
  "cells": [
    {
      "cell_type": "markdown",
      "metadata": {
        "id": "IaWMCP7PSoIa"
      },
      "source": [
        "# LangChain Use-Case Example: Processing Data\n",
        "\n",
        "This example shows how you can use LangChain to feed data to an LLM to make decisions, classifications, extract text, or any of the other things language models can do with data.\n",
        "\n",
        "You can run this code if you have an OpenAI API key.  If you have other API keys then you can run some of the demos that use multiple AI APIs from the same code.\n",
        "\n",
        "## Setup code\n",
        "\n",
        "The first code cell installs the LangChain modules and retrieves AI API credentials.  Please set up Colab secrets for any of these:\n",
        "\n",
        "* `OPENAI_API_KEY`    -- To use the OpenAI API\n",
        "* `AWS_ACCESS_KEY_ID` -- To use AWS Bedrock\n",
        "* `AWS_SECRET_ACCESS_KEY`\n",
        "* `AWS_REGION_NAME`"
      ]
    },
    {
      "cell_type": "code",
      "execution_count": 1,
      "metadata": {},
      "outputs": [
        {
          "name": "stdout",
          "output_type": "stream",
          "text": [
            "Successfully loaded OPENAI_API_KEY from environment variables.\n",
            "Successfully loaded AWS_ACCESS_KEY_ID from environment variables.\n",
            "Successfully loaded AWS_SECRET_ACCESS_KEY from environment variables.\n",
            "Successfully loaded AWS_REGION_NAME from environment variables.\n"
          ]
        }
      ],
      "source": [
        "# Load secrets\n",
        "import os\n",
        "from dotenv import load_dotenv\n",
        "load_dotenv()\n",
        "\n",
        "def load_environment_variables(variable_names):\n",
        "    for var_name in variable_names:\n",
        "        if var_name not in os.environ:\n",
        "            try:\n",
        "                from google.colab import userdata\n",
        "                value = userdata.get(var_name)\n",
        "                if value:\n",
        "                    os.environ[var_name] = value\n",
        "            except ImportError:\n",
        "                pass\n",
        "        if var_name not in os.environ:\n",
        "            raise ValueError(f\"{var_name} not found. Please set it in .env file or Google Colab secrets.\")\n",
        "        else:\n",
        "            print(f\"Successfully loaded {var_name} from environment variables.\")\n",
        "\n",
        "variables_to_load = [\n",
        "    \"OPENAI_API_KEY\",\n",
        "    \"AWS_ACCESS_KEY_ID\",\n",
        "    \"AWS_SECRET_ACCESS_KEY\",\n",
        "    \"AWS_REGION_NAME\"\n",
        "]\n",
        "\n",
        "load_environment_variables(variables_to_load)"
      ]
    },
    {
      "cell_type": "code",
      "execution_count": 2,
      "metadata": {
        "colab": {
          "base_uri": "https://localhost:8080/"
        },
        "id": "ZeHf7rmvXh7y",
        "outputId": "4f548eb7-a545-41fb-bd56-c85c1000ee17"
      },
      "outputs": [
        {
          "name": "stdout",
          "output_type": "stream",
          "text": [
            "Requirement already satisfied: langchain in /Users/ryan/miniconda3/envs/py39/lib/python3.9/site-packages (0.2.11)\n",
            "Requirement already satisfied: langchain-community in /Users/ryan/miniconda3/envs/py39/lib/python3.9/site-packages (0.2.6)\n",
            "Requirement already satisfied: langchain-core in /Users/ryan/miniconda3/envs/py39/lib/python3.9/site-packages (0.2.23)\n",
            "Requirement already satisfied: langchain-openai in /Users/ryan/miniconda3/envs/py39/lib/python3.9/site-packages (0.1.14)\n",
            "Requirement already satisfied: PyYAML>=5.3 in /Users/ryan/miniconda3/envs/py39/lib/python3.9/site-packages (from langchain) (6.0.1)\n",
            "Requirement already satisfied: SQLAlchemy<3,>=1.4 in /Users/ryan/miniconda3/envs/py39/lib/python3.9/site-packages (from langchain) (1.4.15)\n",
            "Requirement already satisfied: aiohttp<4.0.0,>=3.8.3 in /Users/ryan/miniconda3/envs/py39/lib/python3.9/site-packages (from langchain) (3.9.5)\n",
            "Requirement already satisfied: async-timeout<5.0.0,>=4.0.0 in /Users/ryan/miniconda3/envs/py39/lib/python3.9/site-packages (from langchain) (4.0.3)\n",
            "Requirement already satisfied: langchain-text-splitters<0.3.0,>=0.2.0 in /Users/ryan/miniconda3/envs/py39/lib/python3.9/site-packages (from langchain) (0.2.2)\n",
            "Requirement already satisfied: langsmith<0.2.0,>=0.1.17 in /Users/ryan/miniconda3/envs/py39/lib/python3.9/site-packages (from langchain) (0.1.93)\n",
            "Requirement already satisfied: numpy<2,>=1 in /Users/ryan/miniconda3/envs/py39/lib/python3.9/site-packages (from langchain) (1.26.4)\n",
            "Requirement already satisfied: pydantic<3,>=1 in /Users/ryan/miniconda3/envs/py39/lib/python3.9/site-packages (from langchain) (2.8.2)\n",
            "Requirement already satisfied: requests<3,>=2 in /Users/ryan/miniconda3/envs/py39/lib/python3.9/site-packages (from langchain) (2.32.3)\n",
            "Requirement already satisfied: tenacity!=8.4.0,<9.0.0,>=8.1.0 in /Users/ryan/miniconda3/envs/py39/lib/python3.9/site-packages (from langchain) (8.2.3)\n",
            "Requirement already satisfied: dataclasses-json<0.7,>=0.5.7 in /Users/ryan/miniconda3/envs/py39/lib/python3.9/site-packages (from langchain-community) (0.6.7)\n",
            "Requirement already satisfied: jsonpatch<2.0,>=1.33 in /Users/ryan/miniconda3/envs/py39/lib/python3.9/site-packages (from langchain-core) (1.33)\n",
            "Requirement already satisfied: packaging<25,>=23.2 in /Users/ryan/miniconda3/envs/py39/lib/python3.9/site-packages (from langchain-core) (23.2)\n",
            "Requirement already satisfied: openai<2.0.0,>=1.32.0 in /Users/ryan/miniconda3/envs/py39/lib/python3.9/site-packages (from langchain-openai) (1.37.1)\n",
            "Requirement already satisfied: tiktoken<1,>=0.7 in /Users/ryan/miniconda3/envs/py39/lib/python3.9/site-packages (from langchain-openai) (0.7.0)\n",
            "Requirement already satisfied: aiosignal>=1.1.2 in /Users/ryan/miniconda3/envs/py39/lib/python3.9/site-packages (from aiohttp<4.0.0,>=3.8.3->langchain) (1.3.1)\n",
            "Requirement already satisfied: attrs>=17.3.0 in /Users/ryan/miniconda3/envs/py39/lib/python3.9/site-packages (from aiohttp<4.0.0,>=3.8.3->langchain) (23.2.0)\n",
            "Requirement already satisfied: frozenlist>=1.1.1 in /Users/ryan/miniconda3/envs/py39/lib/python3.9/site-packages (from aiohttp<4.0.0,>=3.8.3->langchain) (1.4.1)\n",
            "Requirement already satisfied: multidict<7.0,>=4.5 in /Users/ryan/miniconda3/envs/py39/lib/python3.9/site-packages (from aiohttp<4.0.0,>=3.8.3->langchain) (6.0.5)\n",
            "Requirement already satisfied: yarl<2.0,>=1.0 in /Users/ryan/miniconda3/envs/py39/lib/python3.9/site-packages (from aiohttp<4.0.0,>=3.8.3->langchain) (1.9.4)\n",
            "Requirement already satisfied: marshmallow<4.0.0,>=3.18.0 in /Users/ryan/miniconda3/envs/py39/lib/python3.9/site-packages (from dataclasses-json<0.7,>=0.5.7->langchain-community) (3.21.3)\n",
            "Requirement already satisfied: typing-inspect<1,>=0.4.0 in /Users/ryan/miniconda3/envs/py39/lib/python3.9/site-packages (from dataclasses-json<0.7,>=0.5.7->langchain-community) (0.9.0)\n",
            "Requirement already satisfied: jsonpointer>=1.9 in /Users/ryan/miniconda3/envs/py39/lib/python3.9/site-packages (from jsonpatch<2.0,>=1.33->langchain-core) (3.0.0)\n",
            "Requirement already satisfied: orjson<4.0.0,>=3.9.14 in /Users/ryan/miniconda3/envs/py39/lib/python3.9/site-packages (from langsmith<0.2.0,>=0.1.17->langchain) (3.10.6)\n",
            "Requirement already satisfied: anyio<5,>=3.5.0 in /Users/ryan/miniconda3/envs/py39/lib/python3.9/site-packages (from openai<2.0.0,>=1.32.0->langchain-openai) (4.4.0)\n",
            "Requirement already satisfied: distro<2,>=1.7.0 in /Users/ryan/miniconda3/envs/py39/lib/python3.9/site-packages (from openai<2.0.0,>=1.32.0->langchain-openai) (1.9.0)\n",
            "Requirement already satisfied: httpx<1,>=0.23.0 in /Users/ryan/miniconda3/envs/py39/lib/python3.9/site-packages (from openai<2.0.0,>=1.32.0->langchain-openai) (0.27.0)\n",
            "Requirement already satisfied: sniffio in /Users/ryan/miniconda3/envs/py39/lib/python3.9/site-packages (from openai<2.0.0,>=1.32.0->langchain-openai) (1.3.1)\n",
            "Requirement already satisfied: tqdm>4 in /Users/ryan/miniconda3/envs/py39/lib/python3.9/site-packages (from openai<2.0.0,>=1.32.0->langchain-openai) (4.66.4)\n",
            "Requirement already satisfied: typing-extensions<5,>=4.7 in /Users/ryan/miniconda3/envs/py39/lib/python3.9/site-packages (from openai<2.0.0,>=1.32.0->langchain-openai) (4.12.2)\n",
            "Requirement already satisfied: annotated-types>=0.4.0 in /Users/ryan/miniconda3/envs/py39/lib/python3.9/site-packages (from pydantic<3,>=1->langchain) (0.7.0)\n",
            "Requirement already satisfied: pydantic-core==2.20.1 in /Users/ryan/miniconda3/envs/py39/lib/python3.9/site-packages (from pydantic<3,>=1->langchain) (2.20.1)\n",
            "Requirement already satisfied: charset-normalizer<4,>=2 in /Users/ryan/miniconda3/envs/py39/lib/python3.9/site-packages (from requests<3,>=2->langchain) (3.3.2)\n",
            "Requirement already satisfied: idna<4,>=2.5 in /Users/ryan/miniconda3/envs/py39/lib/python3.9/site-packages (from requests<3,>=2->langchain) (3.7)\n",
            "Requirement already satisfied: urllib3<3,>=1.21.1 in /Users/ryan/miniconda3/envs/py39/lib/python3.9/site-packages (from requests<3,>=2->langchain) (1.26.19)\n",
            "Requirement already satisfied: certifi>=2017.4.17 in /Users/ryan/miniconda3/envs/py39/lib/python3.9/site-packages (from requests<3,>=2->langchain) (2024.7.4)\n",
            "Requirement already satisfied: greenlet!=0.4.17 in /Users/ryan/miniconda3/envs/py39/lib/python3.9/site-packages (from SQLAlchemy<3,>=1.4->langchain) (3.0.3)\n",
            "Requirement already satisfied: regex>=2022.1.18 in /Users/ryan/miniconda3/envs/py39/lib/python3.9/site-packages (from tiktoken<1,>=0.7->langchain-openai) (2024.7.24)\n",
            "Requirement already satisfied: exceptiongroup>=1.0.2 in /Users/ryan/miniconda3/envs/py39/lib/python3.9/site-packages (from anyio<5,>=3.5.0->openai<2.0.0,>=1.32.0->langchain-openai) (1.2.2)\n",
            "Requirement already satisfied: httpcore==1.* in /Users/ryan/miniconda3/envs/py39/lib/python3.9/site-packages (from httpx<1,>=0.23.0->openai<2.0.0,>=1.32.0->langchain-openai) (1.0.5)\n",
            "Requirement already satisfied: h11<0.15,>=0.13 in /Users/ryan/miniconda3/envs/py39/lib/python3.9/site-packages (from httpcore==1.*->httpx<1,>=0.23.0->openai<2.0.0,>=1.32.0->langchain-openai) (0.14.0)\n",
            "Requirement already satisfied: mypy-extensions>=0.3.0 in /Users/ryan/miniconda3/envs/py39/lib/python3.9/site-packages (from typing-inspect<1,>=0.4.0->dataclasses-json<0.7,>=0.5.7->langchain-community) (1.0.0)\n"
          ]
        }
      ],
      "source": [
        "# Install necessary libraries\n",
        "!pip install langchain langchain-community langchain-core langchain-openai\n",
        "\n",
        "# LangChain setup: Show more about what's happening as it happens.\n",
        "# from langchain.globals import set_debug\n",
        "# set_debug(True)"
      ]
    },
    {
      "cell_type": "markdown",
      "metadata": {},
      "source": [
        "## Example: Detect Something In A Dataset\n",
        "\n",
        "This [HuggingFace dataset](https://huggingface.co/datasets/AyoubChLin/CNN_News_Articles_2011-2022) contains news articles from CNN.  What if we want to use an LLM to scan the articles, looking for something?  LangChain makes that pretty easy."
      ]
    },
    {
      "cell_type": "code",
      "execution_count": 18,
      "metadata": {},
      "outputs": [
        {
          "name": "stderr",
          "output_type": "stream",
          "text": [
            "Processing articles:   2%|▏         | 34/1610 [00:15<11:03,  2.38article/s]"
          ]
        },
        {
          "name": "stdout",
          "output_type": "stream",
          "text": [
            "Text discusses space flight:\n",
            "Sign up for CNN's Wonder Theory science newsletter. Explore the universe with news on fascinating discoveries, scientific advancements and more. (CNN)Space travel is known to be notoriously rough on the human body, but new research has revealed just how hard it hits red blood cells. When we're on Earth, our bodies create and destroy 2 million of these cells per second. In space, astronauts experienced 3 million red blood cells destroyed per second, resulting in a loss of 54% more cells than people on Earth experience, according to a new study.Lower red blood cell counts in astronauts is known as space anemia.\"Space anemia has consistently been reported when astronauts returned to Earth since the first space missions, but we didn't know why,\" said study author Dr. Guy Trudel, a rehabilitation physician and researcher at The Ottawa Hospital and professor at the University of Ottawa, in a statement. Canadian astronaut David Saint-Jacques collected breath, ambient air and blood samples for...\n"
          ]
        },
        {
          "name": "stderr",
          "output_type": "stream",
          "text": [
            "Processing articles:   3%|▎         | 53/1610 [00:22<09:21,  2.77article/s]"
          ]
        },
        {
          "name": "stdout",
          "output_type": "stream",
          "text": [
            "Text discusses space flight:\n",
            "Story highlightsPhobos-Grunt was supposed to land on one of the moons of MarsIt launched on November 9 but never escaped Earth orbitThe failed Russian space probe Phobos-Grunt fell back to Earth on Sunday, crashing in the southeastern Pacific Ocean off Chile, Russia's state news agency Itar-Tass announced.The spacecraft crashed about 1,250 km (775 miles) west of Chile's Wellington Island, according to a Russian military spokesman quoted by Itar-Tass.The nearly 15-ton probe was supposed to have landed on one of the moons of Mars and send back soil and rock samples. But its engines failed to boost it out of Earth orbit after its November 9 launch, and Russian officials estimated that fragments weighing up to 440 pounds could have survived re-entry. ...\n"
          ]
        },
        {
          "name": "stderr",
          "output_type": "stream",
          "text": [
            "Processing articles:  40%|███▉      | 637/1610 [04:42<08:40,  1.87article/s]"
          ]
        },
        {
          "name": "stdout",
          "output_type": "stream",
          "text": [
            "Text discusses space flight:\n",
            "\n",
            "A version of this story appeared in CNN's Wonder Theory newsletter. To get it in your inbox, sign up for free here. Tell us what you'd like to see more of in the newsletter at sciencenewsletter@cnn.com.\n",
            " (CNN)As we eye exploring other planets in our solar system, we can't forget about our own.A number of missions in the works aim to seek out the potential for life on moons around Jupiter and Saturn. Perseverance continues to check out Mars years before humans plan to arrive, and Heinz announced this week its first ketchup produced under Mars-like conditions -- evidence that we can maybe grow tomatoes on the red planet one day. The excitement surrounding these other worlds often overshadows news about Earth, except for when we're worried about asteroids or space weather hitting us.New perspectives on our \"blue marble\" shared this week are a stark reminder that this is the only home we have -- and it needs our help. The images show a changing world, already far different from what previ...\n"
          ]
        },
        {
          "name": "stderr",
          "output_type": "stream",
          "text": [
            "Processing articles:  49%|████▉     | 786/1610 [05:47<06:26,  2.13article/s]"
          ]
        },
        {
          "name": "stdout",
          "output_type": "stream",
          "text": [
            "Text discusses space flight:\n",
            " (CNN)Space is full of grease-like molecules, according to a new study that attempted to mimic interstellar dust in a laboratory.The study, conducted by the University of New South Wales in Australia and Ege University in Turkey, sought to better estimate how much organic matter is in space, giving scientists greater insight into how life is formed. A team of eight scientists recreated and analyzed material similar to interstellar dust, and used it to estimated how many grease-like carbon molecules (scientifically known as aliphatic carbon) are in interstellar space, beyond the bounds of our solar system. The estimated amount of \"space grease\" in the Milky Way far exceeded expectations: 10 billion trillion trillion tonnes -- or enough to fill 40 trillion trillion trillion packs of butter.NASA's Curiosity rover has found organic matter in the soil on MarsSpace is not just greasy, but dirty, said Tim Schmidt, co-author of the study and professor at UNSW.Read More\"Think of it more as like...\n"
          ]
        },
        {
          "name": "stderr",
          "output_type": "stream",
          "text": [
            "Processing articles:  55%|█████▍    | 878/1610 [06:26<04:53,  2.49article/s]"
          ]
        },
        {
          "name": "stdout",
          "output_type": "stream",
          "text": [
            "Text discusses space flight:\n",
            "Story highlightsState media: 50 still in hospital, one woman with a spinal injury flown to MoscowWitness says flash shone \"like 10 suns,\" felt shock wave pass through his bodyMore than 4,000 buildings, mostly apartment blocks, were damaged, reports sayDivers find no trace of meteorite in a frozen lake near Chelyabinsk, state media reportA day after a spectacular meteor blast shook Russia's Urals region, the cleanup operation got under way Saturday in the hard-hit Russian city of Chelyabinsk.Although some buildings were unscathed when sonic waves from the Friday morning explosion reverberated through the region, others lost some or most windows or had walls come tumbling down.More than 1,000 people were injured, including more than 200 children, according to news reports. Many of them were hit by flying glass.Most of those hurt were in the Chelyabinsk region; the majority of injuries are not thought to be serious.However, one woman was flown to Moscow to be treated for a spinal injury r...\n"
          ]
        },
        {
          "name": "stderr",
          "output_type": "stream",
          "text": [
            "Processing articles:  60%|█████▉    | 961/1610 [07:02<05:20,  2.03article/s]"
          ]
        },
        {
          "name": "stdout",
          "output_type": "stream",
          "text": [
            "Text discusses space flight:\n",
            " (CNN)In the heart of Cape Town, a control room buzzes with activity. Technicians monitor a grid of screens, scanning data that will soon make its way to astronomers working to deepen our understanding of the universe.Operated by the South African Radio Astronomy Observatory (SARAO), the data is coming from the MeerKAT array -- one of the most advanced radio telescopes in the world. Comprised of 64 connected satellite dishes in a remote part of the Northern Cape, the $330 million telescope has put South Africa on the astronomy map. It's also a key component of the Square Kilometer Array (SKA), an international effort that will see thousands of dishes built in remote regions of South Africa and Australia.South Africa's MeerKAT array is one of the most advanced radio telescopes in the world.\"This is probably the biggest science project on the whole continent,\" says Pontsho Maruping, SARAO deputy managing director. \"We've already started training astronomers in other African countries.\"\"W...\n"
          ]
        },
        {
          "name": "stderr",
          "output_type": "stream",
          "text": [
            "Processing articles:  70%|███████   | 1131/1610 [08:16<03:09,  2.53article/s]"
          ]
        },
        {
          "name": "stdout",
          "output_type": "stream",
          "text": [
            "Text discusses space flight:\n",
            "Sign up for CNN's Wonder Theory science newsletter. Explore the universe with news on fascinating discoveries, scientific advancements and more. (CNN)The early warning system to detect asteroids that pose a threat to Earth, operated by NASA and its collaborators around the world, got to flex its muscles. It successfully detected a small asteroid 6 1/2 feet (2 meters) wide just hours before it smashed into the atmosphere over the Norwegian Sea before disintegrating on Friday, March 11, according to a statement from NASA's Jet Propulsion Laboratory on Tuesday. That's too small to pose any hazard to Earth, NASA said. A still from an animation showing asteroid 2022 EB5's predicted orbit around the sun before crashing into the Earth's atmosphere on March 11.Often such tiny asteroids slip through the surveillance net, and 2022 EB5 -- as the asteroid was named -- is only the fifth of this kind to be spotted and tracked prior to impact. (Fear not, a larger asteroid would be discovered and trac...\n"
          ]
        },
        {
          "name": "stderr",
          "output_type": "stream",
          "text": [
            "Processing articles:  82%|████████▏ | 1315/1610 [09:42<01:56,  2.54article/s]"
          ]
        },
        {
          "name": "stdout",
          "output_type": "stream",
          "text": [
            "Text discusses space flight:\n",
            "Sign up for CNN's Wonder Theory science newsletter. Explore the universe with news on fascinating discoveries, scientific advancements and more. (CNN)Near the summit of Costa Rica's Poás volcano is one of Earth's most acidic lakes, bright blue and full of toxic metals. The harsh conditions of Laguna Caliente, where temperatures can fluctuate between 100 degrees Fahrenheit (38 degrees Celsius) and 194 degrees Fahrenheit (90 degrees Celsius), are where a few lucky scientists go to learn more about Mars. Frequent phreatic eruptions occur when groundwater is heated by volcanic activity, releasing explosions of ash, rock and steam.Yet microbes have found a way to live in this environment, one of the most hostile on our planet, according to multiple studies of the lake and new research published last week in Frontiers in Astronomy and Space Sciences. Although the diversity of the life in this lake isn't high, it has managed to adapt and persist in a multitude of ways. Read MoreToxic, stingin...\n"
          ]
        },
        {
          "name": "stderr",
          "output_type": "stream",
          "text": [
            "Processing articles:  89%|████████▉ | 1429/1610 [10:33<01:20,  2.24article/s]"
          ]
        },
        {
          "name": "stdout",
          "output_type": "stream",
          "text": [
            "Text discusses space flight:\n",
            " (CNN)Here's a look at Russia. The Russian Federation is the largest country in the world, covering more than one-ninth of the earth's land area.About Russia(from the CIA World Factbook)Area: 17 million sq km (1.8 times the size of the United States)Population: 142,320,790 (July 2021 est.)Median age: 40.3 yearsRead MoreCapital: MoscowEthnic groups: Russian 77.7%, Tatar 3.7%, Ukrainian 1.4%, Bashkir 1.1%, Chuvash 1%, Chechen 1%, other 10.2%, unspecified 3.9% (2010 est., most recent available)Religion: Russian Orthodox 15-20%, Muslim 10-15%, other Christian 2% (2006 est.)Unemployment: 4.6% (2019 est.)Other FactsOne of the top producers of natural gas and oil in the world.The legislative body, the Federal Assembly, is made up of the lower house, the State Duma, and the upper house, the Federation Council. Russia spans nine time zones.Contains one-fourth of the world's fresh water.Timeline1613 - Mikhail Romanov's coronation establishes the Romanov dynasty, which lasts for more than 300 yea...\n"
          ]
        },
        {
          "name": "stderr",
          "output_type": "stream",
          "text": [
            "Processing articles:  99%|█████████▊| 1589/1610 [11:42<00:09,  2.33article/s]"
          ]
        },
        {
          "name": "stdout",
          "output_type": "stream",
          "text": [
            "Text discusses space flight:\n",
            "Story highlights The Soyuz capsule docked to the space station late Tuesday Two veteran space travelers and one rookie is inside the Russian rocketThey'll spend the next six months in space The latest ISS crew set off hours earlier from KazakhstanA Russian rocket docked late Tuesday with the International Space Station, bringing two space veterans and a rookie astronaut one step closer to a long stay orbiting the Earth.The three -- Russian cosmonaut Fyodor Yurchikhin, American astronaut Karen Nyberg and Italian Luca Parmitano of the European Space Agency -- will spend the next six months at the space station until their scheduled departure in mid-November.Read more: Crew takes first fast-track flight to International Space StationThe Soyuz capsule carrying them into orbit lifted off at 2:31 a.m. Wednesday (4:31 p.m. ET Tuesday) from the Baikonur Cosmodrome in Kazakhstan for a nearly six-hour flight to the station. Once inside the space station, they will join Chris Cassidy of NASA and ...\n"
          ]
        },
        {
          "name": "stderr",
          "output_type": "stream",
          "text": [
            "Processing articles:  99%|█████████▉| 1597/1610 [11:45<00:04,  2.66article/s]"
          ]
        },
        {
          "name": "stdout",
          "output_type": "stream",
          "text": [
            "Text discusses space flight:\n",
            "Story highlightsGene Seymour: Gene Roddenberry may have created \"Star Trek,\" but Leonard Nimoy and character of Spock are inseparableHe says Nimoy had many other artistic endeavors, photography, directing, poetry, but he was, in the end, SpockGene Seymour is a film critic who has written about music, movies and culture for The New York Times, Newsday, Entertainment Weekly and The Washington Post. The opinions expressed in this commentary are solely those of the writer. (CNN)Everybody on the planet knows that Gene Roddenberry created Mr. Spock, the laconic, imperturbable extra-terrestrial First Officer for the Starship Enterprise. But Mr. Spock doesn't belong to Roddenberry, even though he is the grand exalted progenitor of everything that was, is, and forever will be \"Star Trek.\"Mr. Spock belongs to Leonard Nimoy, who died Friday at age 83. And though he doesn't take Spock with him, he and Spock remain inseparable. Zachary Quinto, who plays Spock in the re-booted feature film incarnati...\n"
          ]
        },
        {
          "name": "stderr",
          "output_type": "stream",
          "text": [
            "Processing articles: 100%|██████████| 1610/1610 [11:50<00:00,  2.27article/s]\n"
          ]
        }
      ],
      "source": [
        "from datasets import load_dataset\n",
        "from langchain_openai import ChatOpenAI\n",
        "from langchain.prompts import PromptTemplate\n",
        "from tqdm import tqdm\n",
        "import random\n",
        "\n",
        "dataset = load_dataset(\"AyoubChLin/CNN_News_Articles_2011-2022\", split=\"train\")\n",
        "sampled_data = random.sample(list(dataset), k=int(len(dataset) * 0.05))\n",
        "\n",
        "model = ChatOpenAI(model_name=\"gpt-4o-mini\")\n",
        "prompt = PromptTemplate.from_template(\n",
        "  \"Does the following news article discuss space exploration missions? Answer with 'Yes' or 'No':\\n\\n{text}\"\n",
        ")\n",
        "chain = prompt | model\n",
        "\n",
        "for item in tqdm(sampled_data, desc=\"Processing articles\", unit=\"article\"):\n",
        "  response = chain.invoke({\"text\": item[\"text\"]})\n",
        "  if response.content.strip().lower() == \"yes\":\n",
        "    print(f\"Text discusses space flight:\\n{item['text'][:1000]}...\")"
      ]
    }
  ],
  "metadata": {
    "colab": {
      "authorship_tag": "ABX9TyOpXsojiWLuKeGKMKF31Gmk",
      "include_colab_link": true,
      "provenance": []
    },
    "kernelspec": {
      "display_name": "Python 3",
      "name": "python3"
    },
    "language_info": {
      "codemirror_mode": {
        "name": "ipython",
        "version": 3
      },
      "file_extension": ".py",
      "mimetype": "text/x-python",
      "name": "python",
      "nbconvert_exporter": "python",
      "pygments_lexer": "ipython3",
      "version": "3.9.19"
    }
  },
  "nbformat": 4,
  "nbformat_minor": 0
}
